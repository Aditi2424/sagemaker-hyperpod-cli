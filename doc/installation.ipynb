{
 "cells": [
  {
   "cell_type": "markdown",
   "metadata": {},
   "source": [
    "(installation)=\n",
    "\n",
    "# Installation\n",
    "\n",
    "This notebook provides installation instructions for the SageMaker HyperPod CLI and SDK."
   ]
  },
  {
   "cell_type": "markdown",
   "metadata": {},
   "source": [
    "## System Requirements\n",
    "\n",
    "### Supported Platforms\n",
    "- Linux\n",
    "- macOS\n",
    "\n",
    "**Note**: Windows is not supported at this time.\n",
    "\n",
    "### Supported ML Frameworks\n",
    "- PyTorch (version ≥ 1.10)\n",
    "\n",
    "### Supported Python Versions\n",
    "- 3.9\n",
    "- 3.10\n",
    "- 3.11"
   ]
  },
  {
   "cell_type": "markdown",
   "metadata": {},
   "source": [
    "## Prerequisites\n",
    "\n",
    "### For Training\n",
    "SageMaker HyperPod CLI currently supports `PyTorchJob` training workloads.\n",
    "To run these jobs, install the **SageMaker Training Operator**.\n",
    "\n",
    "[Install the SageMaker Training Operator](https://docs.aws.amazon.com/sagemaker/latest/dg/sagemaker-eks-operator-install.html)\n",
    "\n",
    "### For Inference\n",
    "The CLI supports creating inference endpoints using JumpStart models or custom configurations.\n",
    "To enable this, install the **SageMaker Inference Operator**.\n",
    "\n",
    "[Install the SageMaker Inference Operator](https://docs.aws.amazon.com/sagemaker/latest/dg/sagemaker-hyperpod-model-deployment-setup.html)"
   ]
  },
  {
   "cell_type": "markdown",
   "metadata": {},
   "source": [
    "## Installation Options"
   ]
  },
  {
   "cell_type": "markdown",
   "metadata": {},
   "source": [
    "### Option 1: Install from PyPI\n",
    "\n",
    "You can install the SageMaker HyperPod CLI and SDK directly using `pip`:"
   ]
  },
  {
   "cell_type": "code",
   "execution_count": null,
   "metadata": {},
   "outputs": [],
   "source": [
    "# Install from PyPI\n",
    "!pip install sagemaker-hyperpod"
   ]
  },
  {
   "cell_type": "markdown",
   "metadata": {},
   "source": [
    "To verify that the installation was successful, run:"
   ]
  },
  {
   "cell_type": "code",
   "execution_count": null,
   "metadata": {},
   "outputs": [],
   "source": [
    "# Verify CLI installation\n",
    "!hyp --help"
   ]
  },
  {
   "cell_type": "markdown",
   "metadata": {},
   "source": [
    "### Option 2: Install from Source\n",
    "\n",
    "Clone the GitHub repository and install the CLI from source:"
   ]
  },
  {
   "cell_type": "code",
   "execution_count": null,
   "metadata": {},
   "outputs": [],
   "source": [
    "# Clone the repository\n",
    "!git clone https://github.com/aws/sagemaker-hyperpod-cli.git"
   ]
  },
  {
   "cell_type": "code",
   "execution_count": null,
   "metadata": {},
   "outputs": [],
   "source": [
    "# Change to the repository directory\n",
    "%cd sagemaker-hyperpod-cli"
   ]
  },
  {
   "cell_type": "code",
   "execution_count": null,
   "metadata": {},
   "outputs": [],
   "source": [
    "# Install using pip\n",
    "!pip install ."
   ]
  }
 ],
 "metadata": {
  "kernelspec": {
   "display_name": "Python 3",
   "language": "python",
   "name": "python3"
  },
  "language_info": {
   "codemirror_mode": {
    "name": "ipython",
    "version": 3
   },
   "file_extension": ".py",
   "mimetype": "text/x-python",
   "name": "python",
   "nbconvert_exporter": "python",
   "pygments_lexer": "ipython3",
   "version": "3.9.0"
  }
 },
 "nbformat": 4,
 "nbformat_minor": 4
}
